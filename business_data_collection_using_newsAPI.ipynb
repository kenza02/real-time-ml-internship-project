{
 "cells": [
  {
   "cell_type": "code",
   "execution_count": 33,
   "id": "e474069f-8dad-4146-aab8-0098c556eb8c",
   "metadata": {},
   "outputs": [
    {
     "name": "stdout",
     "output_type": "stream",
     "text": [
      "News articles saved to 'news_articles.xlsx'\n"
     ]
    }
   ],
   "source": [
    "import requests\n",
    "import pandas as pd\n",
    "import os\n",
    "\n",
    "api_key = \"78750da9783c425e824a8db55d2ec750\"\n",
    "\n",
    "def news():\n",
    "    main_url = \"https://newsapi.org/v2/top-headlines?country=us&category=business&apiKey=78750da9783c425e824a8db55d2ec750\"\n",
    "    news = requests.get(main_url).json()\n",
    "    # print(news)\n",
    "    articles = news[\"articles\"]\n",
    "    # print(articles)\n",
    "    news_articles = []\n",
    "    for article in articles:\n",
    "        title = article['title']\n",
    "        description = article['description']\n",
    "        content = article['content']\n",
    "        news_articles.append({'Title': title, 'Description': description, 'Content': content})\n",
    "    \n",
    "    # Create a DataFrame to store the news articles\n",
    "    df = pd.DataFrame(news_articles)\n",
    "    \n",
    "    # Save the DataFrame to an Excel file\n",
    "    df.to_excel(\"news_articles.xlsx\", index=False)\n",
    "    \n",
    "    print(\"News articles saved to 'news_articles.xlsx'\")\n",
    "    \n",
    "    # Open the Excel file after saving\n",
    "    os.system(\"start news_articles.xlsx\")\n",
    "        \n",
    "news()\n"
   ]
  },
  {
   "cell_type": "code",
   "execution_count": null,
   "id": "afbfc162-700a-4675-b525-139b4d0db3d4",
   "metadata": {},
   "outputs": [],
   "source": []
  }
 ],
 "metadata": {
  "kernelspec": {
   "display_name": "Python 3 (ipykernel)",
   "language": "python",
   "name": "python3"
  },
  "language_info": {
   "codemirror_mode": {
    "name": "ipython",
    "version": 3
   },
   "file_extension": ".py",
   "mimetype": "text/x-python",
   "name": "python",
   "nbconvert_exporter": "python",
   "pygments_lexer": "ipython3",
   "version": "3.10.9"
  }
 },
 "nbformat": 4,
 "nbformat_minor": 5
}
