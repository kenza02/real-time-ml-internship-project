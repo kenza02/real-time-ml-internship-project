{
 "cells": [
  {
   "cell_type": "code",
   "execution_count": 18,
   "id": "d77dcc29-d434-4d51-ae95-2b1212d41b00",
   "metadata": {},
   "outputs": [
    {
     "name": "stdout",
     "output_type": "stream",
     "text": [
      "                  Date                                              Title  \\\n",
      "0  2023-08-09 00:00:00  Tesla and other top companies capitalize on bi...   \n",
      "1  2023-08-09 00:00:00  The Volvo EX30's interior is the Ikea take on ...   \n",
      "2  2023-08-09 00:00:00  Tesla Owners Love Their Cars More Than Elon Mu...   \n",
      "3  2023-08-09 00:00:00  Tesla Semis Shine on PepsiCo's Long-Haul Elect...   \n",
      "4  2023-08-09 00:00:00  Tesla Reportedly Leases Office Space In India,...   \n",
      "\n",
      "                                         Description  \n",
      "0  The list includes MicroStrategy, Block, Tesla ...  \n",
      "1  Comparisons will inevitably be drawn between t...  \n",
      "2  (Bloomberg) -- Listen to The Big Take podcast ...  \n",
      "3  PepsiCo is running 21 Tesla Semis up to 450 mi...  \n",
      "4  Tesla India Motor & Energy, which is the Ameri...  \n"
     ]
    },
    {
     "data": {
      "text/plain": [
       "0"
      ]
     },
     "execution_count": 18,
     "metadata": {},
     "output_type": "execute_result"
    }
   ],
   "source": [
    "from unidecode import unidecode\n",
    "import pandas as pd\n",
    "import os\n",
    "\n",
    "# Sample dataset filenames (replace these with your actual filenames)\n",
    "dataset_files = [\"Articles_tsla.csv\"]\n",
    "\n",
    "def correct_encoding_issues(text):\n",
    "    if isinstance(text, str):  # Check if the value is a string\n",
    "        corrected_text = unidecode(text)\n",
    "        return corrected_text\n",
    "    return text\n",
    "\n",
    "corrected_dataset = []\n",
    "\n",
    "# Iterate through the dataset files\n",
    "for dataset_file in dataset_files:\n",
    "    # Load the CSV file using Pandas, explicitly specifying data types\n",
    "    dtype_dict = {'Date': 'str', 'Title': 'str', 'Description': 'str'}\n",
    "    df = pd.read_csv(dataset_file, dtype=dtype_dict)\n",
    "    \n",
    "    # Iterate through the rows of the DataFrame\n",
    "    for index, row in df.iterrows():\n",
    "        corrected_article = {\n",
    "            'Date': row['Date'],  # Maintain the original 'Date' value\n",
    "            'Title': correct_encoding_issues(row['Title']),\n",
    "            'Description': correct_encoding_issues(row['Description'])\n",
    "            # Add more keys if your dataset has more fields\n",
    "        }\n",
    "        corrected_dataset.append(corrected_article)\n",
    "\n",
    "# Create a new DataFrame from the corrected dataset\n",
    "corrected_df = pd.DataFrame(corrected_dataset)\n",
    "\n",
    "# Format the 'Date' column as desired (8/9/2023)\n",
    "corrected_df['Date'] = pd.to_datetime(corrected_df['Date']).dt.strftime('%-m/%-d/%Y')\n",
    "print(corrected_df.head())  # Print the first few rows to check 'Date' values\n",
    "\n",
    "# Save the corrected DataFrame to a new XLSX file\n",
    "output_filename = \"Artciles_tsla(corrected).xlsx\"\n",
    "corrected_df.to_excel(output_filename, index=False)\n",
    "\n",
    "# Open the saved XLSX file automatically\n",
    "os.system(f'start excel \"{output_filename}\"')\n",
    "\n",
    "\n"
   ]
  },
  {
   "cell_type": "code",
   "execution_count": null,
   "id": "e44dae2d-2f6b-47f0-a2fe-4ce66528d510",
   "metadata": {},
   "outputs": [],
   "source": []
  }
 ],
 "metadata": {
  "kernelspec": {
   "display_name": "Python 3 (ipykernel)",
   "language": "python",
   "name": "python3"
  },
  "language_info": {
   "codemirror_mode": {
    "name": "ipython",
    "version": 3
   },
   "file_extension": ".py",
   "mimetype": "text/x-python",
   "name": "python",
   "nbconvert_exporter": "python",
   "pygments_lexer": "ipython3",
   "version": "3.10.9"
  }
 },
 "nbformat": 4,
 "nbformat_minor": 5
}
