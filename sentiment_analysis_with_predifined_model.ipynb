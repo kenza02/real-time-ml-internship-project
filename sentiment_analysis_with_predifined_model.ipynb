{
 "cells": [
  {
   "cell_type": "code",
   "execution_count": 31,
   "id": "ae28dee6-84f3-4bf2-ac1d-afe428b7c54e",
   "metadata": {},
   "outputs": [],
   "source": [
    "from vaderSentiment.vaderSentiment import SentimentIntensityAnalyzer\n",
    "import pandas as pd\n",
    "import os\n"
   ]
  },
  {
   "cell_type": "code",
   "execution_count": 32,
   "id": "184e96e8-70d3-4322-8edc-e9454d25124f",
   "metadata": {},
   "outputs": [],
   "source": [
    "df = pd.read_csv(\"Articles_tsla.csv\")"
   ]
  },
  {
   "cell_type": "code",
   "execution_count": 38,
   "id": "c83f4b58-53bc-4318-a727-f3c2a960a555",
   "metadata": {},
   "outputs": [
    {
     "name": "stdout",
     "output_type": "stream",
     "text": [
      "0.04908867602427921\n",
      "0.8816557283763278\n",
      "0.06925275037936267\n"
     ]
    }
   ],
   "source": [
    "analyzer = SentimentIntensityAnalyzer()\n",
    "\n",
    "negative = []\n",
    "neutral = []\n",
    "positive = []\n",
    "\n",
    "for n in range(df.shape[0]):\n",
    "    Title = str(df.iloc[n, 1])  # Convert to string if not already\n",
    "    Description = str(df.iloc[n, 2])  # Convert to string if not already\n",
    "    Title_analyzed = analyzer.polarity_scores(Title)\n",
    "    Description_analyzed = analyzer.polarity_scores(Description)\n",
    "    negative.append(((Title_analyzed['neg'])+(Description_analyzed['neg']))/2)\n",
    "    neutral.append(((Title_analyzed['neu'])+(Description_analyzed['neu']))/2)\n",
    "    positive.append(((Title_analyzed['pos'])+(Description_analyzed['pos']))/2)\n",
    "\n",
    "    \n",
    "df[\"Negative\"] = negative \n",
    "df[\"Neutral\"] = neutral\n",
    "df[\"Positive\"] = positive\n",
    "\n",
    "pd.set_option('display.max_columns', None)\n",
    "#print(df.head())\n",
    "\n",
    "#to check if this is working \n",
    "#print(df.nlargest(5,['Negative']))\n",
    "\n",
    "print(df['Negative'].mean())\n",
    "print(df['Neutral'].mean())\n",
    "print(df['Positive'].mean())"
   ]
  },
  {
   "cell_type": "code",
   "execution_count": null,
   "id": "591f33b6-bc70-4335-84fd-7f158328bab5",
   "metadata": {},
   "outputs": [],
   "source": []
  }
 ],
 "metadata": {
  "kernelspec": {
   "display_name": "Python 3 (ipykernel)",
   "language": "python",
   "name": "python3"
  },
  "language_info": {
   "codemirror_mode": {
    "name": "ipython",
    "version": 3
   },
   "file_extension": ".py",
   "mimetype": "text/x-python",
   "name": "python",
   "nbconvert_exporter": "python",
   "pygments_lexer": "ipython3",
   "version": "3.10.9"
  }
 },
 "nbformat": 4,
 "nbformat_minor": 5
}
