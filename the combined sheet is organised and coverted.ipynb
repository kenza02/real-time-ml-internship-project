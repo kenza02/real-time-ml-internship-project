{
 "cells": [
  {
   "cell_type": "code",
   "execution_count": 13,
   "id": "472fee21-e0e1-4a10-9e69-5b6e68d55b3d",
   "metadata": {},
   "outputs": [
    {
     "name": "stdout",
     "output_type": "stream",
     "text": [
      "Collecting dateparser\n",
      "  Using cached dateparser-1.1.8-py2.py3-none-any.whl (293 kB)\n",
      "Requirement already satisfied: python-dateutil in c:\\users\\hp\\anaconda3\\lib\\site-packages (from dateparser) (2.8.2)\n",
      "Collecting tzlocal\n",
      "  Using cached tzlocal-5.0.1-py3-none-any.whl (20 kB)\n",
      "Requirement already satisfied: pytz in c:\\users\\hp\\anaconda3\\lib\\site-packages (from dateparser) (2022.7)\n",
      "Requirement already satisfied: regex!=2019.02.19,!=2021.8.27 in c:\\users\\hp\\anaconda3\\lib\\site-packages (from dateparser) (2022.7.9)\n",
      "Requirement already satisfied: six>=1.5 in c:\\users\\hp\\anaconda3\\lib\\site-packages (from python-dateutil->dateparser) (1.16.0)\n",
      "Collecting tzdata\n",
      "  Downloading tzdata-2023.3-py2.py3-none-any.whl (341 kB)\n",
      "     ------------------------------------ 341.8/341.8 kB 544.5 kB/s eta 0:00:00\n",
      "Installing collected packages: tzdata, tzlocal, dateparser\n",
      "Successfully installed dateparser-1.1.8 tzdata-2023.3 tzlocal-5.0.1\n",
      "Note: you may need to restart the kernel to use updated packages.\n"
     ]
    }
   ],
   "source": [
    "pip install dateparser\n"
   ]
  },
  {
   "cell_type": "code",
   "execution_count": 17,
   "id": "0e225d6b-ef59-4fd0-b279-63b02b4910fc",
   "metadata": {},
   "outputs": [
    {
     "name": "stderr",
     "output_type": "stream",
     "text": [
      "C:\\Users\\HP\\anaconda3\\lib\\site-packages\\pandas\\util\\_decorators.py:211: FutureWarning: the 'encoding' keyword is deprecated and will be removed in a future version. Please take steps to stop the use of 'encoding'\n",
      "  return func(*args, **kwargs)\n"
     ]
    },
    {
     "name": "stdout",
     "output_type": "stream",
     "text": [
      "Processed data saved to: processed_output_dates_only.xlsx\n"
     ]
    },
    {
     "data": {
      "text/plain": [
       "0"
      ]
     },
     "execution_count": 17,
     "metadata": {},
     "output_type": "execute_result"
    }
   ],
   "source": [
    "import pandas as pd\n",
    "from datetime import datetime, timedelta\n",
    "import dateparser\n",
    "import os\n",
    "\n",
    "# Read the Excel sheet into a DataFrame\n",
    "input_file = \"combined_sheets(final).xlsx\"\n",
    "sheet_name = \"Sheet1\"\n",
    "df = pd.read_excel(input_file, sheet_name=sheet_name)\n",
    "\n",
    "# Function to convert time strings to date strings in the format \"%Y-%m-%d\"\n",
    "def convert_time(time_str):\n",
    "    if 'hour' in time_str or 'min' in time_str:\n",
    "        return datetime.now().strftime(\"%Y-%m-%d\")\n",
    "    elif 'day' in time_str:\n",
    "        days_ago = int(time_str.split()[0])\n",
    "        return (datetime.now() - timedelta(days=days_ago)).strftime(\"%Y-%m-%d\")\n",
    "    else:\n",
    "        return dateparser.parse(time_str).strftime(\"%Y-%m-%d\")\n",
    "\n",
    "\n",
    "# Apply the function to the time column and update the 'Time' column with the converted date strings\n",
    "df['Time'] = df['Time'].apply(convert_time)\n",
    "# Sort the DataFrame by the 'Time' column in descending order\n",
    "df = df.sort_values(by='Time', ascending=False)\n",
    "\n",
    "\n",
    "\n",
    "# Define the output Excel file name\n",
    "output_file = \"processed_output_dates_only.xlsx\"\n",
    "\n",
    "# Write the processed DataFrame to the output Excel file using 'utf-16' encoding\n",
    "df.to_excel(output_file, index=False, encoding='utf-16')\n",
    "\n",
    "print(\"Processed data saved to:\", output_file)\n",
    "\n",
    "# Open the output Excel file automatically using the default application\n",
    "os.system(f'start excel {output_file}')\n"
   ]
  },
  {
   "cell_type": "code",
   "execution_count": null,
   "id": "9ffcf3d0-b607-41c8-89d9-66dca7133d0a",
   "metadata": {},
   "outputs": [],
   "source": []
  }
 ],
 "metadata": {
  "kernelspec": {
   "display_name": "Python 3 (ipykernel)",
   "language": "python",
   "name": "python3"
  },
  "language_info": {
   "codemirror_mode": {
    "name": "ipython",
    "version": 3
   },
   "file_extension": ".py",
   "mimetype": "text/x-python",
   "name": "python",
   "nbconvert_exporter": "python",
   "pygments_lexer": "ipython3",
   "version": "3.10.9"
  }
 },
 "nbformat": 4,
 "nbformat_minor": 5
}
